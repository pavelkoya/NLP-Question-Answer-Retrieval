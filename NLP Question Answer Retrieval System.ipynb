{
 "cells": [
  {
   "cell_type": "code",
   "id": "initial_id",
   "metadata": {
    "collapsed": true,
    "ExecuteTime": {
     "end_time": "2024-10-08T09:16:08.088855Z",
     "start_time": "2024-10-08T09:16:05.810760Z"
    }
   },
   "source": [
    "from sentence_transformers import SentenceTransformer, util\n",
    "import os\n",
    "import json\n",
    "import gzip"
   ],
   "outputs": [],
   "execution_count": 4
  },
  {
   "metadata": {
    "ExecuteTime": {
     "end_time": "2024-10-08T09:16:15.905155Z",
     "start_time": "2024-10-08T09:16:09.083495Z"
    }
   },
   "cell_type": "code",
   "source": "util.http_get('https://public.ukp.informatik.tu-darmstadt.de/reimers/sentence-transformers/datasets/simplewiki-2020-11-01.jsonl.gz', 'simplewiki-2020-11-01.jsonl.gz')",
   "id": "b349a176212fddac",
   "outputs": [
    {
     "data": {
      "text/plain": [
       "  0%|          | 0.00/50.2M [00:00<?, ?B/s]"
      ],
      "application/vnd.jupyter.widget-view+json": {
       "version_major": 2,
       "version_minor": 0,
       "model_id": "3f3624802d0a4bb0ab0d197292ccb8bc"
      }
     },
     "metadata": {},
     "output_type": "display_data"
    }
   ],
   "execution_count": 5
  },
  {
   "metadata": {
    "ExecuteTime": {
     "end_time": "2024-10-08T09:16:55.838363Z",
     "start_time": "2024-10-08T09:16:54.729828Z"
    }
   },
   "cell_type": "code",
   "source": "model = SentenceTransformer('nq-distilbert-base-v1')",
   "id": "32080d332fd3f6ed",
   "outputs": [],
   "execution_count": 11
  },
  {
   "metadata": {
    "ExecuteTime": {
     "end_time": "2024-10-08T09:16:31.674165Z",
     "start_time": "2024-10-08T09:16:29.991955Z"
    }
   },
   "cell_type": "code",
   "source": [
    "passages = []\n",
    "with gzip.open('simplewiki-2020-11-01.jsonl.gz', 'rt', encoding='utf8') as file:\n",
    "    for line in file:\n",
    "        data = json.loads(line.strip())\n",
    "        # print(data)\n",
    "        for paragraph in data['paragraphs']:\n",
    "            passages.append([data['title'], paragraph])\n",
    "        # break"
   ],
   "id": "df14d1544735ad04",
   "outputs": [],
   "execution_count": 6
  },
  {
   "metadata": {
    "ExecuteTime": {
     "end_time": "2024-10-08T09:16:32.779396Z",
     "start_time": "2024-10-08T09:16:32.769744Z"
    }
   },
   "cell_type": "code",
   "source": "len(passages)",
   "id": "8cb572d1bda816dd",
   "outputs": [
    {
     "data": {
      "text/plain": [
       "509663"
      ]
     },
     "execution_count": 7,
     "metadata": {},
     "output_type": "execute_result"
    }
   ],
   "execution_count": 7
  },
  {
   "metadata": {
    "ExecuteTime": {
     "end_time": "2024-10-08T09:16:35.159131Z",
     "start_time": "2024-10-08T09:16:34.352502Z"
    }
   },
   "cell_type": "code",
   "source": [
    "from random import shuffle\n",
    "shuffle(passages)"
   ],
   "id": "5f08419e3e26a702",
   "outputs": [],
   "execution_count": 8
  },
  {
   "metadata": {
    "ExecuteTime": {
     "end_time": "2024-10-08T09:16:37.191907Z",
     "start_time": "2024-10-08T09:16:36.940563Z"
    }
   },
   "cell_type": "code",
   "source": "passages = passages[0:1_000]",
   "id": "7c9cc94dc002b33f",
   "outputs": [],
   "execution_count": 9
  },
  {
   "metadata": {
    "ExecuteTime": {
     "end_time": "2024-10-08T09:17:19.801424Z",
     "start_time": "2024-10-08T09:16:59.855674Z"
    }
   },
   "cell_type": "code",
   "source": "corpus_embeddings = model.encode(passages, convert_to_tensor=True, show_progress_bar=True)",
   "id": "c823e49a258b168a",
   "outputs": [
    {
     "data": {
      "text/plain": [
       "Batches:   0%|          | 0/32 [00:00<?, ?it/s]"
      ],
      "application/vnd.jupyter.widget-view+json": {
       "version_major": 2,
       "version_minor": 0,
       "model_id": "3cb48110ac7d4d519c117c95805c8f23"
      }
     },
     "metadata": {},
     "output_type": "display_data"
    }
   ],
   "execution_count": 12
  },
  {
   "metadata": {
    "ExecuteTime": {
     "end_time": "2024-10-08T09:17:48.876016Z",
     "start_time": "2024-10-08T09:17:48.866526Z"
    }
   },
   "cell_type": "code",
   "source": [
    "def get_answer(query):\n",
    "\n",
    "    question_embedding = model.encode(query, convert_to_tensor=True)\n",
    "    hits = util.semantic_search(question_embedding, corpus_embeddings, top_k=3)[0]\n",
    "\n",
    "    print(\"Results:\")\n",
    "    for hit in hits:\n",
    "        print(passages[hit['corpus_id']])"
   ],
   "id": "62186d5bf4619698",
   "outputs": [],
   "execution_count": 13
  },
  {
   "metadata": {
    "ExecuteTime": {
     "end_time": "2024-10-08T09:24:25.878814Z",
     "start_time": "2024-10-08T09:24:25.748233Z"
    }
   },
   "cell_type": "code",
   "source": "get_answer(\"tell me about Boston city\")",
   "id": "bc0da4cf0c83b7f5",
   "outputs": [
    {
     "name": "stdout",
     "output_type": "stream",
     "text": [
      "Results:\n",
      "['Boston', 'Boston is the largest city of Massachusetts in the United States. It was founded in 1630. Boston is one of the oldest, richest and most culturally important cities in the United States.']\n",
      "['City', 'In modern times many cities have grown bigger and bigger. The whole area is often called a \"\"metropolis\"\" and can sometimes includes several small ancient towns and villages. The \"metropolis\" of London includes the City of London, the City of Westminster and many old villages such as Notting Hill, Southwark, Richmond, Greenwich and etc. The part that is officially known as the \"City of London\" only takes up one square mile. The rest is known as \"Greater London\". Many other cities have grown in the same way.']\n",
      "['Northern California', 'Northern California is a region of California. The definitions of it vary, but it usually contains the area around San Francisco and Sacramento. 10,000,000 people live in Northern California.']\n"
     ]
    }
   ],
   "execution_count": 18
  },
  {
   "metadata": {
    "ExecuteTime": {
     "end_time": "2024-10-08T09:25:10.776426Z",
     "start_time": "2024-10-08T09:25:10.683747Z"
    }
   },
   "cell_type": "code",
   "source": "get_answer(\"when did the cold war end?\")",
   "id": "e653dcbcf3807a48",
   "outputs": [
    {
     "name": "stdout",
     "output_type": "stream",
     "text": [
      "Results:\n",
      "['Brigid Berlin', 'Berlin died of cardiac arrest from a pulmonary embolism in New York City on July 17, 2020 at the age of 80.']\n",
      "['Ely Cathedral', \"In 1986 it was discovered that the roofs, timber and stonework of much of the Cathedral were becoming unsafe. A public appeal was launched. £4,000,000 was needed to secure the Cathedral's future and to prevent its doors being closed for good. In just over a year, the money was given or promised. The Great Restoration was completed in the year 2000.\"]\n",
      "['Susan Rice', 'Susan Elizabeth Rice (born November 17, 1964) is an American diplomat. She was the National Security Advisor from 2013 through 2017 during the Barack Obama presidency. Before, she was the United States Ambassador to the United Nations between 2009 to 2013.']\n"
     ]
    }
   ],
   "execution_count": 19
  },
  {
   "metadata": {},
   "cell_type": "code",
   "outputs": [],
   "execution_count": null,
   "source": "",
   "id": "ea039df1963c7eb4"
  }
 ],
 "metadata": {
  "kernelspec": {
   "display_name": "Python 3",
   "language": "python",
   "name": "python3"
  },
  "language_info": {
   "codemirror_mode": {
    "name": "ipython",
    "version": 2
   },
   "file_extension": ".py",
   "mimetype": "text/x-python",
   "name": "python",
   "nbconvert_exporter": "python",
   "pygments_lexer": "ipython2",
   "version": "2.7.6"
  }
 },
 "nbformat": 4,
 "nbformat_minor": 5
}
